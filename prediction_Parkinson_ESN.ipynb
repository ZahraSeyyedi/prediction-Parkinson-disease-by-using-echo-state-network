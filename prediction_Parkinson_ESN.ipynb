{
  "cells": [
    {
      "cell_type": "code",
      "execution_count": null,
      "metadata": {
        "colab": {
          "base_uri": "https://localhost:8080/"
        },
        "id": "jgl4kI4dGPNp",
        "outputId": "beca7738-3b72-49ad-a448-56d1af2ff15d"
      },
      "outputs": [
        {
          "name": "stdout",
          "output_type": "stream",
          "text": [
            "Found existing installation: scipy 1.10.1\n",
            "Uninstalling scipy-1.10.1:\n",
            "  Would remove:\n",
            "    /usr/local/lib/python3.10/dist-packages/scipy-1.10.1.dist-info/*\n",
            "    /usr/local/lib/python3.10/dist-packages/scipy.libs/libgfortran-040039e1.so.5.0.0\n",
            "    /usr/local/lib/python3.10/dist-packages/scipy.libs/libopenblasp-r0-41284840.3.18.so\n",
            "    /usr/local/lib/python3.10/dist-packages/scipy.libs/libquadmath-96973f99.so.0.0.0\n",
            "    /usr/local/lib/python3.10/dist-packages/scipy/*\n",
            "Proceed (Y/n)? Y\n",
            "  Successfully uninstalled scipy-1.10.1\n",
            "Collecting scipy==1.7.2\n",
            "  Downloading scipy-1.7.2-cp310-cp310-manylinux_2_17_x86_64.manylinux2014_x86_64.whl (39.9 MB)\n",
            "\u001b[2K     \u001b[90m━━━━━━━━━━━━━━━━━━━━━━━━━━━━━━━━━━━━━━━━\u001b[0m \u001b[32m39.9/39.9 MB\u001b[0m \u001b[31m13.8 MB/s\u001b[0m eta \u001b[36m0:00:00\u001b[0m\n",
            "\u001b[?25hCollecting numpy<1.23.0,>=1.16.5 (from scipy==1.7.2)\n",
            "  Downloading numpy-1.22.4-cp310-cp310-manylinux_2_17_x86_64.manylinux2014_x86_64.whl (16.8 MB)\n",
            "\u001b[2K     \u001b[90m━━━━━━━━━━━━━━━━━━━━━━━━━━━━━━━━━━━━━━━━\u001b[0m \u001b[32m16.8/16.8 MB\u001b[0m \u001b[31m72.3 MB/s\u001b[0m eta \u001b[36m0:00:00\u001b[0m\n",
            "\u001b[?25hInstalling collected packages: numpy, scipy\n",
            "  Attempting uninstall: numpy\n",
            "    Found existing installation: numpy 1.23.5\n",
            "    Uninstalling numpy-1.23.5:\n",
            "      Successfully uninstalled numpy-1.23.5\n"
          ]
        }
      ],
      "source": [
        "\n",
        "!pip uninstall scipy\n",
        "!pip install scipy==1.7.2"
      ]
    },
    {
      "cell_type": "code",
      "execution_count": null,
      "metadata": {
        "colab": {
          "background_save": true
        },
        "id": "BODad1HCGd8J",
        "outputId": "125c3d29-dbf5-4b02-f051-b8e840f76aba"
      },
      "outputs": [
        {
          "name": "stdout",
          "output_type": "stream",
          "text": [
            "Collecting easyesn\n",
            "  Downloading easyesn-0.1.6.1-py2.py3-none-any.whl (39 kB)\n",
            "Requirement already satisfied: numpy in /usr/local/lib/python3.10/dist-packages (from easyesn) (1.22.4)\n",
            "Requirement already satisfied: progressbar2 in /usr/local/lib/python3.10/dist-packages (from easyesn) (4.2.0)\n",
            "Collecting dill (from easyesn)\n",
            "  Downloading dill-0.3.7-py3-none-any.whl (115 kB)\n",
            "\u001b[2K     \u001b[90m━━━━━━━━━━━━━━━━━━━━━━━━━━━━━━━━━━━━━━━\u001b[0m \u001b[32m115.3/115.3 kB\u001b[0m \u001b[31m5.1 MB/s\u001b[0m eta \u001b[36m0:00:00\u001b[0m\n",
            "\u001b[?25hCollecting multiprocess (from easyesn)\n",
            "  Downloading multiprocess-0.70.15-py310-none-any.whl (134 kB)\n",
            "\u001b[2K     \u001b[90m━━━━━━━━━━━━━━━━━━━━━━━━━━━━━━━━━━━━━━━\u001b[0m \u001b[32m134.8/134.8 kB\u001b[0m \u001b[31m9.1 MB/s\u001b[0m eta \u001b[36m0:00:00\u001b[0m\n",
            "\u001b[?25hCollecting sklearn (from easyesn)\n",
            "  Downloading sklearn-0.0.post7.tar.gz (3.6 kB)\n",
            "  Preparing metadata (setup.py) ... \u001b[?25l\u001b[?25hdone\n",
            "Requirement already satisfied: python-utils>=3.0.0 in /usr/local/lib/python3.10/dist-packages (from progressbar2->easyesn) (3.7.0)\n",
            "Requirement already satisfied: typing-extensions>3.10.0.2 in /usr/local/lib/python3.10/dist-packages (from python-utils>=3.0.0->progressbar2->easyesn) (4.7.1)\n",
            "Building wheels for collected packages: sklearn\n",
            "  Building wheel for sklearn (setup.py) ... \u001b[?25l\u001b[?25hdone\n",
            "  Created wheel for sklearn: filename=sklearn-0.0.post7-py3-none-any.whl size=2950 sha256=cabe1ef8f4b4d5af1a52a6c1517106b90a4d6182b4d7e89f3656c278663b13d1\n",
            "  Stored in directory: /root/.cache/pip/wheels/c8/9c/85/72901eb50bc4bc6e3b2629378d172384ea3dfd19759c77fd2c\n",
            "Successfully built sklearn\n",
            "Installing collected packages: sklearn, dill, multiprocess, easyesn\n",
            "Successfully installed dill-0.3.7 easyesn-0.1.6.1 multiprocess-0.70.15 sklearn-0.0.post7\n"
          ]
        }
      ],
      "source": [
        "!pip install easyesn"
      ]
    },
    {
      "cell_type": "code",
      "execution_count": null,
      "metadata": {
        "id": "s2QqX1biHmo4"
      },
      "outputs": [],
      "source": [
        "import numpy as np # np is short for numpy\n",
        "import pandas as pd # pandas is so commonly used, it's shortened to pd\n",
        "from sklearn.model_selection import train_test_split, cross_val_score\n",
        "from sklearn.metrics import accuracy_score, classification_report\n",
        "import matplotlib.pyplot as plt\n",
        "import warnings\n",
        "from easyesn import ClassificationESN\n",
        "from easyesn import OneHotEncoder\n",
        "from easyesn.optimizers import GridSearchOptimizer\n",
        "warnings.filterwarnings('ignore')\n",
        "from sklearn.decomposition import PCA\n",
        "import numpy as np # np is short for numpy\n",
        "import pandas as pd # pandas is so commonly used, it's shortened to pd\n",
        "from sklearn.utils import resample,shuffle\n",
        "from imblearn.over_sampling import SMOTE\n",
        "import matplotlib.pyplot as plt\n",
        "import seaborn as sns\n",
        "from sklearn.model_selection import cross_val_score\n",
        "from sklearn.model_selection import train_test_split, cross_val_score\n",
        "from sklearn.preprocessing import StandardScaler\n",
        "from sklearn.model_selection import train_test_split\n",
        "from sklearn.metrics import accuracy_score,classification_report,f1_score,precision_score,recall_score, mean_squared_error\n",
        "import matplotlib.pyplot as plt\n",
        "from sklearn.metrics import roc_curve, auc\n",
        "from itertools import cycle\n",
        "import warnings\n",
        "from easyesn import ClassificationESN\n",
        "from easyesn import OneHotEncoder\n",
        "from easyesn.optimizers import GridSearchOptimizer\n",
        "warnings.filterwarnings('ignore')\n",
        "from sklearn.metrics import classification_report, confusion_matrix\n",
        "from imblearn.datasets import make_imbalance\n",
        "\n"
      ]
    },
    {
      "cell_type": "markdown",
      "metadata": {
        "id": "NWosizM2asWv"
      },
      "source": []
    },
    {
      "cell_type": "code",
      "execution_count": null,
      "metadata": {
        "id": "bOZoSx6WLv4k"
      },
      "outputs": [],
      "source": [
        "#from google.colab import drive\n",
        "#drive.mount('/content/drive')"
      ]
    },
    {
      "cell_type": "code",
      "execution_count": null,
      "metadata": {
        "id": "hrtlJU6oHmrP"
      },
      "outputs": [],
      "source": [
        "df = pd.read_csv(\"/content/parkinsons (8) (1).data\")\n",
        "df.drop('name', axis=1, inplace=True)\n",
        "label = df.status\n",
        "features = df.drop('status', axis=1)\n",
        "df = pd.concat([features, label], axis=1)"
      ]
    },
    {
      "cell_type": "code",
      "execution_count": null,
      "metadata": {
        "id": "tklKFU22Hmt2"
      },
      "outputs": [],
      "source": [
        "X_root = df.drop('status', axis=1)\n",
        "X_root = np.array(X_root)\n",
        "y_root = df.status.values\n",
        "y_root = np.array(y_root)"
      ]
    },
    {
      "cell_type": "code",
      "execution_count": null,
      "metadata": {
        "id": "lBFOMGSoHmwW"
      },
      "outputs": [],
      "source": [
        "from sklearn.datasets import make_classification\n",
        "from sklearn.model_selection import cross_val_score\n",
        "from sklearn.model_selection import RepeatedStratifiedKFold\n",
        "from sklearn.feature_selection import RFE\n",
        "from sklearn.tree import DecisionTreeClassifier\n",
        "from sklearn.pipeline import Pipeline\n",
        "from sklearn.svm import SVR\n",
        "from easyesn import RegressionESN\n",
        "from sklearn.model_selection import cross_val_score\n",
        "from easyesn import ClassificationESN\n",
        "from sklearn.feature_selection import SelectKBest, chi2\n",
        "from sklearn.model_selection import cross_val_score\n",
        "import numpy as np"
      ]
    },
    {
      "cell_type": "code",
      "execution_count": null,
      "metadata": {
        "id": "GdiaOZiLHmyu"
      },
      "outputs": [],
      "source": [
        "X_train_root , X_test_root , y_train_root , y_test_root = train_test_split ( X_root ,y_root , test_size=0.3)\n",
        "X_train_final = X_train_root[:, [ 0,18, 19, 21]]\n",
        "X_test_final = X_test_root[:,  [0 ,18, 19, 21]]"
      ]
    },
    {
      "cell_type": "code",
      "execution_count": null,
      "metadata": {
        "id": "OI8rIozFHm1G"
      },
      "outputs": [],
      "source": [
        "oh = OneHotEncoder()\n",
        "y_test_root_help = oh.fit_transform(y_test_root)\n",
        "y_train_root_help = oh.fit_transform(y_train_root)\n",
        "\n",
        "\n",
        "# Train the ESN model on the full training data\n",
        "esn = ClassificationESN(n_input=1, n_reservoir=100, n_classes=2, leakingRate=0.01, spectralRadius=0.9, regressionParameters=[1e-2], solver='pinv')\n",
        "esn.fit(X_train_final, y_train_root_help)\n",
        "\n",
        "# Make predictions on the test data\n",
        "y_pred_test = esn.predict(X_test_final)\n",
        "\n",
        "# Evaluate the accuracy of the classifier\n",
        "accuracy = accuracy_score(y_test_root_help, y_pred_test)\n",
        "print(\"Accuracy:\", accuracy)\n",
        "\n",
        "from sklearn.metrics import recall_score, precision_score\n",
        "\n",
        "# Calculate recall\n",
        "recall = recall_score(y_test_root_help, y_pred_test, average='macro')\n",
        "\n",
        "# Calculate precision\n",
        "precision = precision_score(y_test_root_help, y_pred_test, average='macro')\n",
        "\n",
        "print(\"Recall:\", recall)\n",
        "print(\"Precision:\", precision)\n",
        "\n",
        "print(\"--------------------------------------------------------------------\")\n",
        "print(\"--------------------------------------------------------------------\")"
      ]
    },
    {
      "cell_type": "code",
      "execution_count": null,
      "metadata": {
        "colab": {
          "background_save": true
        },
        "id": "4vHlHiZPHm3j",
        "outputId": "61ccc7f2-623d-4f04-c376-18b32639ebd7"
      },
      "outputs": [
        {
          "name": "stdout",
          "output_type": "stream",
          "text": [
            "Confusion Matrix\n",
            "[[12  6]\n",
            " [ 4 37]]\n",
            "Classification Report\n",
            "              precision    recall  f1-score   support\n",
            "\n",
            "           0      0.750     0.667     0.706        18\n",
            "           1      0.860     0.902     0.881        41\n",
            "\n",
            "    accuracy                          0.831        59\n",
            "   macro avg      0.805     0.785     0.793        59\n",
            "weighted avg      0.827     0.831     0.828        59\n",
            "\n",
            "         count      mean       std       min       25%       50%       75%  \\\n",
            " grad_1    2.0  0.382114  0.402418  0.097561  0.239837  0.382114  0.524390   \n",
            " grad_2    2.0  0.617886  0.402418  0.333333  0.475610  0.617886  0.760163   \n",
            "\n",
            "              max  \n",
            " grad_1  0.666667  \n",
            " grad_2  0.902439  \n"
          ]
        },
        {
          "data": {
            "image/png": "[encoded data removed]",
            "text/plain": [
              "<Figure size 640x480 with 2 Axes>"
            ]
          },
          "metadata": {},
          "output_type": "display_data"
        },
        {
          "data": {
            "image/png": "[encoded data removed]",
            "text/plain": [
              "<Figure size 1500x800 with 2 Axes>"
            ]
          },
          "metadata": {},
          "output_type": "display_data"
        }
      ],
      "source": [
        "labels = [' grad_1', ' grad_2']\n",
        "# Y_pred = esn.predict(X_test)\n",
        "y_pred = np.argmax(y_pred_test, axis=1)\n",
        "y_test = np.argmax(y_test_root_help, axis=1)\n",
        "print('Confusion Matrix')\n",
        "print(confusion_matrix(y_test, y_pred))\n",
        "print('Classification Report')\n",
        "print(classification_report(y_test, y_pred, digits=3))\n",
        "\n",
        "cf_matrix=confusion_matrix(y_test, y_pred)\n",
        "sns.heatmap(cf_matrix, annot=True)\n",
        "cnf_matrix_norm = cf_matrix.astype('float') / cf_matrix.sum(axis=1)[:, np.newaxis]\n",
        "df_cm = pd.DataFrame(cnf_matrix_norm, index=labels, columns=labels)\n",
        "print(df_cm.describe().T)\n",
        "plt.figure(figsize=(15, 8))\n",
        "sns.heatmap(df_cm, annot=True, fmt='.3f')\n",
        "plt.show()"
      ]
    },
    {
      "cell_type": "code",
      "execution_count": null,
      "metadata": {
        "colab": {
          "background_save": true
        },
        "id": "cXx9J3h_RnkK",
        "outputId": "b3e09629-8684-437c-cb86-92c9c005f5a1"
      },
      "outputs": [
        {
          "name": "stdout",
          "output_type": "stream",
          "text": [
            "0\n",
            "predict: [1. 0.]\n",
            "real: [1. 0.]\n",
            "--------\n",
            "--------\n",
            "1\n",
            "predict: [0. 1.]\n",
            "real: [0. 1.]\n",
            "--------\n",
            "--------\n",
            "2\n",
            "predict: [0. 1.]\n",
            "real: [0. 1.]\n",
            "--------\n",
            "--------\n",
            "3\n",
            "predict: [0. 1.]\n",
            "real: [0. 1.]\n",
            "--------\n",
            "--------\n",
            "4\n",
            "predict: [0. 1.]\n",
            "real: [1. 0.]\n",
            "--------\n",
            "--------\n",
            "5\n",
            "predict: [0. 1.]\n",
            "real: [1. 0.]\n",
            "--------\n",
            "--------\n",
            "6\n",
            "predict: [0. 1.]\n",
            "real: [0. 1.]\n",
            "--------\n",
            "--------\n",
            "7\n",
            "predict: [0. 1.]\n",
            "real: [0. 1.]\n",
            "--------\n",
            "--------\n",
            "8\n",
            "predict: [1. 0.]\n",
            "real: [1. 0.]\n",
            "--------\n",
            "--------\n",
            "9\n",
            "predict: [0. 1.]\n",
            "real: [1. 0.]\n",
            "--------\n",
            "--------\n",
            "10\n",
            "predict: [1. 0.]\n",
            "real: [1. 0.]\n",
            "--------\n",
            "--------\n",
            "11\n",
            "predict: [1. 0.]\n",
            "real: [1. 0.]\n",
            "--------\n",
            "--------\n",
            "12\n",
            "predict: [0. 1.]\n",
            "real: [0. 1.]\n",
            "--------\n",
            "--------\n",
            "13\n",
            "predict: [1. 0.]\n",
            "real: [0. 1.]\n",
            "--------\n",
            "--------\n",
            "14\n",
            "predict: [0. 1.]\n",
            "real: [0. 1.]\n",
            "--------\n",
            "--------\n",
            "15\n",
            "predict: [0. 1.]\n",
            "real: [1. 0.]\n",
            "--------\n",
            "--------\n",
            "16\n",
            "predict: [1. 0.]\n",
            "real: [1. 0.]\n",
            "--------\n",
            "--------\n",
            "17\n",
            "predict: [1. 0.]\n",
            "real: [1. 0.]\n",
            "--------\n",
            "--------\n",
            "18\n",
            "predict: [1. 0.]\n",
            "real: [1. 0.]\n",
            "--------\n",
            "--------\n",
            "19\n",
            "predict: [0. 1.]\n",
            "real: [0. 1.]\n",
            "--------\n",
            "--------\n",
            "20\n",
            "predict: [1. 0.]\n",
            "real: [1. 0.]\n",
            "--------\n",
            "--------\n",
            "21\n",
            "predict: [0. 1.]\n",
            "real: [0. 1.]\n",
            "--------\n",
            "--------\n",
            "22\n",
            "predict: [0. 1.]\n",
            "real: [0. 1.]\n",
            "--------\n",
            "--------\n",
            "23\n",
            "predict: [0. 1.]\n",
            "real: [0. 1.]\n",
            "--------\n",
            "--------\n",
            "24\n",
            "predict: [0. 1.]\n",
            "real: [0. 1.]\n",
            "--------\n",
            "--------\n",
            "25\n",
            "predict: [1. 0.]\n",
            "real: [1. 0.]\n",
            "--------\n",
            "--------\n",
            "26\n",
            "predict: [1. 0.]\n",
            "real: [0. 1.]\n",
            "--------\n",
            "--------\n",
            "27\n",
            "predict: [0. 1.]\n",
            "real: [1. 0.]\n",
            "--------\n",
            "--------\n",
            "28\n",
            "predict: [0. 1.]\n",
            "real: [0. 1.]\n",
            "--------\n",
            "--------\n",
            "29\n",
            "predict: [0. 1.]\n",
            "real: [0. 1.]\n",
            "--------\n",
            "--------\n",
            "30\n",
            "predict: [1. 0.]\n",
            "real: [0. 1.]\n",
            "--------\n",
            "--------\n",
            "31\n",
            "predict: [1. 0.]\n",
            "real: [1. 0.]\n",
            "--------\n",
            "--------\n",
            "32\n",
            "predict: [1. 0.]\n",
            "real: [0. 1.]\n",
            "--------\n",
            "--------\n",
            "33\n",
            "predict: [0. 1.]\n",
            "real: [0. 1.]\n",
            "--------\n",
            "--------\n",
            "34\n",
            "predict: [0. 1.]\n",
            "real: [0. 1.]\n",
            "--------\n",
            "--------\n",
            "35\n",
            "predict: [0. 1.]\n",
            "real: [0. 1.]\n",
            "--------\n",
            "--------\n",
            "36\n",
            "predict: [0. 1.]\n",
            "real: [0. 1.]\n",
            "--------\n",
            "--------\n",
            "37\n",
            "predict: [0. 1.]\n",
            "real: [0. 1.]\n",
            "--------\n",
            "--------\n",
            "38\n",
            "predict: [0. 1.]\n",
            "real: [0. 1.]\n",
            "--------\n",
            "--------\n",
            "39\n",
            "predict: [0. 1.]\n",
            "real: [0. 1.]\n",
            "--------\n",
            "--------\n",
            "40\n",
            "predict: [0. 1.]\n",
            "real: [1. 0.]\n",
            "--------\n",
            "--------\n",
            "41\n",
            "predict: [0. 1.]\n",
            "real: [0. 1.]\n",
            "--------\n",
            "--------\n",
            "42\n",
            "predict: [0. 1.]\n",
            "real: [0. 1.]\n",
            "--------\n",
            "--------\n",
            "43\n",
            "predict: [0. 1.]\n",
            "real: [0. 1.]\n",
            "--------\n",
            "--------\n",
            "44\n",
            "predict: [1. 0.]\n",
            "real: [1. 0.]\n",
            "--------\n",
            "--------\n",
            "45\n",
            "predict: [1. 0.]\n",
            "real: [1. 0.]\n",
            "--------\n",
            "--------\n",
            "46\n",
            "predict: [0. 1.]\n",
            "real: [0. 1.]\n",
            "--------\n",
            "--------\n",
            "47\n",
            "predict: [0. 1.]\n",
            "real: [0. 1.]\n",
            "--------\n",
            "--------\n",
            "48\n",
            "predict: [0. 1.]\n",
            "real: [0. 1.]\n",
            "--------\n",
            "--------\n",
            "49\n",
            "predict: [0. 1.]\n",
            "real: [0. 1.]\n",
            "--------\n",
            "--------\n",
            "50\n",
            "predict: [0. 1.]\n",
            "real: [0. 1.]\n",
            "--------\n",
            "--------\n",
            "51\n",
            "predict: [0. 1.]\n",
            "real: [0. 1.]\n",
            "--------\n",
            "--------\n",
            "52\n",
            "predict: [0. 1.]\n",
            "real: [0. 1.]\n",
            "--------\n",
            "--------\n",
            "53\n",
            "predict: [0. 1.]\n",
            "real: [0. 1.]\n",
            "--------\n",
            "--------\n",
            "54\n",
            "predict: [0. 1.]\n",
            "real: [0. 1.]\n",
            "--------\n",
            "--------\n",
            "55\n",
            "predict: [0. 1.]\n",
            "real: [0. 1.]\n",
            "--------\n",
            "--------\n",
            "56\n",
            "predict: [0. 1.]\n",
            "real: [0. 1.]\n",
            "--------\n",
            "--------\n",
            "57\n",
            "predict: [0. 1.]\n",
            "real: [0. 1.]\n",
            "--------\n",
            "--------\n",
            "58\n",
            "predict: [0. 1.]\n",
            "real: [0. 1.]\n",
            "--------\n",
            "--------\n"
          ]
        }
      ],
      "source": [
        "for i in range(0,len(y_pred_test)):\n",
        "  print(i)\n",
        "  print(\"predict:\",y_pred_test[i])\n",
        "  print(\"real:\",y_test_root_help[i])\n",
        "  print(\"--------\")\n",
        "  print(\"--------\")"
      ]
    },
    {
      "cell_type": "code",
      "execution_count": null,
      "metadata": {
        "colab": {
          "background_save": true
        },
        "id": "QS_Kl9HAI7hF",
        "outputId": "536f791d-1eab-476b-b654-8b0cace59089"
      },
      "outputs": [
        {
          "name": "stdout",
          "output_type": "stream",
          "text": [
            "Random Forest Accuracy: 0.8813559322033898\n",
            "Recall: 0.9512195121951219\n",
            "Precision: 0.8863636363636364\n",
            "Confusion Matrix:\n",
            "[[13  5]\n",
            " [ 2 39]]\n"
          ]
        }
      ],
      "source": [
        "from sklearn.ensemble import RandomForestClassifier\n",
        "from sklearn.metrics import accuracy_score\n",
        "from sklearn.model_selection import cross_val_score\n",
        "\n",
        "# Create a Random Forest classifier object\n",
        "rf_classifier = RandomForestClassifier(max_depth= 20, max_features = 'auto', n_estimators= 200)\n",
        "\n",
        "# Train the classifier on the full training data\n",
        "rf_classifier.fit(X_train_final, y_train_root)\n",
        "\n",
        "# Make predictions on the test data\n",
        "y_pred = rf_classifier.predict(X_test_final)\n",
        "\n",
        "# Evaluate the accuracy of the classifier\n",
        "accuracy = accuracy_score(y_test_root, y_pred)\n",
        "print(\"Random Forest Accuracy:\", accuracy)\n",
        "\n",
        "from sklearn.metrics import recall_score, precision_score\n",
        "\n",
        "# Calculate recall\n",
        "recall = recall_score(y_test_root, y_pred)\n",
        "\n",
        "# Calculate precision\n",
        "precision = precision_score(y_test_root, y_pred)\n",
        "\n",
        "print(\"Recall:\", recall)\n",
        "print(\"Precision:\", precision)\n",
        "\n",
        "from sklearn.metrics import confusion_matrix\n",
        "# Calculate the confusion matrix\n",
        "confusion = confusion_matrix(y_test_root, y_pred)\n",
        "\n",
        "print(\"Confusion Matrix:\")\n",
        "print(confusion)\n"
      ]
    },
    {
      "cell_type": "code",
      "execution_count": null,
      "metadata": {
        "colab": {
          "background_save": true
        },
        "id": "oY09WzjkI7jk",
        "outputId": "a5ea9031-05e5-417e-b683-37dba55ddd8e"
      },
      "outputs": [
        {
          "name": "stdout",
          "output_type": "stream",
          "text": [
            "Confusion Matrix\n",
            "[[13  5]\n",
            " [ 2 39]]\n",
            "Classification Report\n",
            "              precision    recall  f1-score   support\n",
            "\n",
            "           0      0.867     0.722     0.788        18\n",
            "           1      0.886     0.951     0.918        41\n",
            "\n",
            "    accuracy                          0.881        59\n",
            "   macro avg      0.877     0.837     0.853        59\n",
            "weighted avg      0.880     0.881     0.878        59\n",
            "\n",
            "         count      mean       std       min       25%       50%       75%  \\\n",
            " grad_1    2.0  0.385501  0.476195  0.048780  0.217141  0.385501  0.553862   \n",
            " grad_2    2.0  0.614499  0.476195  0.277778  0.446138  0.614499  0.782859   \n",
            "\n",
            "              max  \n",
            " grad_1  0.722222  \n",
            " grad_2  0.951220  \n"
          ]
        },
        {
          "data": {
            "image/png": "[encoded data removed]",
            "text/plain": [
              "<Figure size 640x480 with 2 Axes>"
            ]
          },
          "metadata": {},
          "output_type": "display_data"
        },
        {
          "data": {
            "image/png": "[encoded data removed]",
            "text/plain": [
              "<Figure size 1500x800 with 2 Axes>"
            ]
          },
          "metadata": {},
          "output_type": "display_data"
        }
      ],
      "source": [
        "labels = [' grad_1', ' grad_2']\n",
        "\n",
        "print('Confusion Matrix')\n",
        "print(confusion_matrix(y_test_root, y_pred))\n",
        "print('Classification Report')\n",
        "print(classification_report(y_test_root, y_pred, digits=3))\n",
        "\n",
        "cf_matrix=confusion_matrix(y_test_root, y_pred)\n",
        "sns.heatmap(cf_matrix, annot=True)\n",
        "cnf_matrix_norm = cf_matrix.astype('float') / cf_matrix.sum(axis=1)[:, np.newaxis]\n",
        "df_cm = pd.DataFrame(cnf_matrix_norm, index=labels, columns=labels)\n",
        "print(df_cm.describe().T)\n",
        "plt.figure(figsize=(15, 8))\n",
        "sns.heatmap(df_cm, annot=True, fmt='.3f')\n",
        "plt.show()"
      ]
    },
    {
      "cell_type": "code",
      "execution_count": null,
      "metadata": {
        "colab": {
          "background_save": true
        },
        "id": "WxQAOvqPI7oc",
        "outputId": "8e6174ac-898f-4119-fd00-4ef9c1a2db68"
      },
      "outputs": [
        {
          "name": "stdout",
          "output_type": "stream",
          "text": [
            "k-NN Accuracy: 0.8983050847457628\n",
            "Recall: 0.926829268292683\n",
            "Precision: 0.926829268292683\n",
            "Confusion Matrix:\n",
            "[[15  3]\n",
            " [ 3 38]]\n"
          ]
        }
      ],
      "source": [
        "\n",
        "from sklearn.neighbors import KNeighborsClassifier\n",
        "from sklearn.metrics import accuracy_score\n",
        "from sklearn.neighbors import KNeighborsClassifier\n",
        "from sklearn.metrics import accuracy_score, f1_score\n",
        "from sklearn.model_selection import cross_val_score\n",
        "import numpy as np\n",
        "\n",
        "# Create a k-NN classifier object\n",
        "knn_classifier = KNeighborsClassifier(n_neighbors = 3, p = 1, weights = 'distance')\n",
        "\n",
        "# Train the classifier on the full training data\n",
        "knn_classifier.fit(X_train_final, y_train_root)\n",
        "\n",
        "# Make predictions on the test data\n",
        "y_pred = knn_classifier.predict(X_test_final)\n",
        "\n",
        "# Evaluate the accuracy of the classifier\n",
        "accuracy = accuracy_score(y_test_root, y_pred)\n",
        "print(\"k-NN Accuracy:\", accuracy)\n",
        "\n",
        "\n",
        "from sklearn.metrics import recall_score, precision_score\n",
        "\n",
        "# Calculate recall\n",
        "recall = recall_score(y_test_root, y_pred)\n",
        "\n",
        "# Calculate precision\n",
        "precision = precision_score(y_test_root, y_pred)\n",
        "\n",
        "print(\"Recall:\", recall)\n",
        "print(\"Precision:\", precision)\n",
        "\n",
        "from sklearn.metrics import confusion_matrix\n",
        "# Calculate the confusion matrix\n",
        "confusion = confusion_matrix(y_test_root, y_pred)\n",
        "\n",
        "print(\"Confusion Matrix:\")\n",
        "print(confusion)\n"
      ]
    },
    {
      "cell_type": "code",
      "execution_count": null,
      "metadata": {
        "colab": {
          "background_save": true
        },
        "id": "Vm87hpkRI7sz",
        "outputId": "6b69feb8-7ea7-4e0e-c7a8-6599dfe2fe5f"
      },
      "outputs": [
        {
          "name": "stdout",
          "output_type": "stream",
          "text": [
            "Confusion Matrix\n",
            "[[15  3]\n",
            " [ 3 38]]\n",
            "Classification Report\n",
            "              precision    recall  f1-score   support\n",
            "\n",
            "           0      0.833     0.833     0.833        18\n",
            "           1      0.927     0.927     0.927        41\n",
            "\n",
            "    accuracy                          0.898        59\n",
            "   macro avg      0.880     0.880     0.880        59\n",
            "weighted avg      0.898     0.898     0.898        59\n",
            "\n",
            "         count      mean       std       min       25%       50%       75%  \\\n",
            " grad_1    2.0  0.453252  0.537516  0.073171  0.263211  0.453252  0.643293   \n",
            " grad_2    2.0  0.546748  0.537516  0.166667  0.356707  0.546748  0.736789   \n",
            "\n",
            "              max  \n",
            " grad_1  0.833333  \n",
            " grad_2  0.926829  \n"
          ]
        },
        {
          "data": {
            "image/png": "[encoded data removed]",
            "text/plain": [
              "<Figure size 640x480 with 2 Axes>"
            ]
          },
          "metadata": {},
          "output_type": "display_data"
        },
        {
          "data": {
            "image/png": "[encoded data removed]",
            "text/plain": [
              "<Figure size 1500x800 with 2 Axes>"
            ]
          },
          "metadata": {},
          "output_type": "display_data"
        }
      ],
      "source": [
        "labels = [' grad_1', ' grad_2']\n",
        "\n",
        "print('Confusion Matrix')\n",
        "print(confusion_matrix(y_test_root, y_pred))\n",
        "print('Classification Report')\n",
        "print(classification_report(y_test_root, y_pred, digits=3))\n",
        "\n",
        "cf_matrix=confusion_matrix(y_test_root, y_pred)\n",
        "sns.heatmap(cf_matrix, annot=True)\n",
        "cnf_matrix_norm = cf_matrix.astype('float') / cf_matrix.sum(axis=1)[:, np.newaxis]\n",
        "df_cm = pd.DataFrame(cnf_matrix_norm, index=labels, columns=labels)\n",
        "print(df_cm.describe().T)\n",
        "plt.figure(figsize=(15, 8))\n",
        "sns.heatmap(df_cm, annot=True, fmt='.3f')\n",
        "plt.show()"
      ]
    },
    {
      "cell_type": "code",
      "execution_count": null,
      "metadata": {
        "colab": {
          "background_save": true
        },
        "id": "xTJac3OuI7vt"
      },
      "outputs": [],
      "source": []
    },
    {
      "cell_type": "code",
      "execution_count": null,
      "metadata": {
        "colab": {
          "background_save": true
        },
        "id": "aihzMS_YI7y4",
        "outputId": "04d6cca9-c1b0-44b4-bb8f-d5fe81c26ff6"
      },
      "outputs": [
        {
          "name": "stdout",
          "output_type": "stream",
          "text": [
            "SVM Accuracy: 0.8305084745762712\n",
            "Recall: 0.975609756097561\n",
            "Precision: 0.8163265306122449\n",
            "Confusion Matrix:\n",
            "[[ 9  9]\n",
            " [ 1 40]]\n"
          ]
        }
      ],
      "source": [
        "from sklearn.svm import SVC\n",
        "from sklearn.metrics import accuracy_score\n",
        "from sklearn.svm import SVC\n",
        "from sklearn.metrics import accuracy_score, f1_score\n",
        "from sklearn.model_selection import cross_val_score\n",
        "import numpy as np\n",
        "\n",
        "# Create an SVM classifier object\n",
        "svm_classifier = SVC(kernel='linear',C=1, gamma= 'scale' )\n",
        "\n",
        "# Train the classifier on the full training data\n",
        "svm_classifier.fit(X_train_final, y_train_root)\n",
        "\n",
        "# Make predictions on the test data\n",
        "y_pred = svm_classifier.predict(X_test_final)\n",
        "\n",
        "# Evaluate the accuracy of the classifier\n",
        "accuracy = accuracy_score(y_test_root, y_pred)\n",
        "print(\"SVM Accuracy:\", accuracy)\n",
        "\n",
        "\n",
        "from sklearn.metrics import recall_score, precision_score\n",
        "\n",
        "# Calculate recall\n",
        "recall = recall_score(y_test_root, y_pred)\n",
        "\n",
        "# Calculate precision\n",
        "precision = precision_score(y_test_root, y_pred)\n",
        "\n",
        "print(\"Recall:\", recall)\n",
        "print(\"Precision:\", precision)\n",
        "\n",
        "from sklearn.metrics import confusion_matrix\n",
        "# Calculate the confusion matrix\n",
        "confusion = confusion_matrix(y_test_root, y_pred)\n",
        "\n",
        "print(\"Confusion Matrix:\")\n",
        "print(confusion)\n",
        "\n"
      ]
    },
    {
      "cell_type": "code",
      "execution_count": null,
      "metadata": {
        "colab": {
          "background_save": true
        },
        "id": "s21Yleq8Hm6j",
        "outputId": "7674e222-c6db-423c-b813-1a1d1a95a96c"
      },
      "outputs": [
        {
          "name": "stdout",
          "output_type": "stream",
          "text": [
            "Confusion Matrix\n",
            "[[ 9  9]\n",
            " [ 1 40]]\n",
            "Classification Report\n",
            "              precision    recall  f1-score   support\n",
            "\n",
            "           0      0.900     0.500     0.643        18\n",
            "           1      0.816     0.976     0.889        41\n",
            "\n",
            "    accuracy                          0.831        59\n",
            "   macro avg      0.858     0.738     0.766        59\n",
            "weighted avg      0.842     0.831     0.814        59\n",
            "\n",
            "         count      mean       std      min       25%       50%       75%  \\\n",
            " grad_1    2.0  0.262195  0.336307  0.02439  0.143293  0.262195  0.381098   \n",
            " grad_2    2.0  0.737805  0.336307  0.50000  0.618902  0.737805  0.856707   \n",
            "\n",
            "             max  \n",
            " grad_1  0.50000  \n",
            " grad_2  0.97561  \n"
          ]
        },
        {
          "data": {
            "image/png": "[encoded data removed]",
            "text/plain": [
              "<Figure size 640x480 with 2 Axes>"
            ]
          },
          "metadata": {},
          "output_type": "display_data"
        },
        {
          "data": {
            "image/png": "[encoded data removed]",
            "text/plain": [
              "<Figure size 1500x800 with 2 Axes>"
            ]
          },
          "metadata": {},
          "output_type": "display_data"
        }
      ],
      "source": [
        "labels = [' grad_1', ' grad_2']\n",
        "\n",
        "print('Confusion Matrix')\n",
        "print(confusion_matrix(y_test_root, y_pred))\n",
        "print('Classification Report')\n",
        "print(classification_report(y_test_root, y_pred, digits=3))\n",
        "\n",
        "cf_matrix=confusion_matrix(y_test_root, y_pred)\n",
        "sns.heatmap(cf_matrix, annot=True)\n",
        "cnf_matrix_norm = cf_matrix.astype('float') / cf_matrix.sum(axis=1)[:, np.newaxis]\n",
        "df_cm = pd.DataFrame(cnf_matrix_norm, index=labels, columns=labels)\n",
        "print(df_cm.describe().T)\n",
        "plt.figure(figsize=(15, 8))\n",
        "sns.heatmap(df_cm, annot=True, fmt='.3f')\n",
        "plt.show()"
      ]
    },
    {
      "cell_type": "code",
      "execution_count": null,
      "metadata": {
        "colab": {
          "background_save": true
        },
        "id": "DgLUFw9MHm9C"
      },
      "outputs": [],
      "source": []
    },
    {
      "cell_type": "code",
      "execution_count": null,
      "metadata": {
        "colab": {
          "background_save": true
        },
        "id": "Ouitq_HyXTZ5",
        "outputId": "b89e1722-4bb0-4e1d-900e-41fdad23ebd0"
      },
      "outputs": [
        {
          "name": "stdout",
          "output_type": "stream",
          "text": [
            "XGBoost Accuracy: 0.8983050847457628\n",
            "Recall: 0.9512195121951219\n",
            "Precision: 0.9069767441860465\n",
            "Confusion Matrix:\n",
            "[[14  4]\n",
            " [ 2 39]]\n"
          ]
        }
      ],
      "source": [
        "from xgboost import XGBClassifier\n",
        "from sklearn.metrics import accuracy_score\n",
        "from sklearn.model_selection import cross_val_score\n",
        "import numpy as np\n",
        "\n",
        "# Create an XGBoost classifier object\n",
        "xgb_classifier = XGBClassifier(colsample_bytree=0.8, gamma= 0,learning_rate= 0.3,max_depth=3,min_child_weight= 3,subsample= 1.0)\n",
        "\n",
        "# Train the classifier on the full training data\n",
        "xgb_classifier.fit(X_train_final, y_train_root)\n",
        "\n",
        "# Make predictions on the test data\n",
        "y_pred = xgb_classifier.predict(X_test_final)\n",
        "\n",
        "# Evaluate the accuracy of the classifier\n",
        "accuracy = accuracy_score(y_test_root, y_pred)\n",
        "print(\"XGBoost Accuracy:\", accuracy)\n",
        "\n",
        "from sklearn.metrics import recall_score, precision_score\n",
        "\n",
        "# Calculate recall\n",
        "recall = recall_score(y_test_root, y_pred)\n",
        "\n",
        "# Calculate precision\n",
        "precision = precision_score(y_test_root, y_pred)\n",
        "\n",
        "print(\"Recall:\", recall)\n",
        "print(\"Precision:\", precision)\n",
        "\n",
        "from sklearn.metrics import confusion_matrix\n",
        "# Calculate the confusion matrix\n",
        "confusion = confusion_matrix(y_test_root, y_pred)\n",
        "\n",
        "print(\"Confusion Matrix:\")\n",
        "print(confusion)\n"
      ]
    },
    {
      "cell_type": "code",
      "execution_count": null,
      "metadata": {
        "colab": {
          "background_save": true
        },
        "id": "snYSgIzOXTcP",
        "outputId": "b4f5852f-a500-4dd5-d29b-a556c146d092"
      },
      "outputs": [
        {
          "name": "stdout",
          "output_type": "stream",
          "text": [
            "Confusion Matrix\n",
            "[[14  4]\n",
            " [ 2 39]]\n",
            "Classification Report\n",
            "              precision    recall  f1-score   support\n",
            "\n",
            "           0      0.875     0.778     0.824        18\n",
            "           1      0.907     0.951     0.929        41\n",
            "\n",
            "    accuracy                          0.898        59\n",
            "   macro avg      0.891     0.864     0.876        59\n",
            "weighted avg      0.897     0.898     0.897        59\n",
            "\n",
            "         count      mean       std       min       25%       50%       75%  \\\n",
            " grad_1    2.0  0.413279  0.515479  0.048780  0.231030  0.413279  0.595528   \n",
            " grad_2    2.0  0.586721  0.515479  0.222222  0.404472  0.586721  0.768970   \n",
            "\n",
            "              max  \n",
            " grad_1  0.777778  \n",
            " grad_2  0.951220  \n"
          ]
        },
        {
          "data": {
            "image/png": "[encoded data removed]",
            "text/plain": [
              "<Figure size 640x480 with 2 Axes>"
            ]
          },
          "metadata": {},
          "output_type": "display_data"
        },
        {
          "data": {
            "image/png": "[encoded data removed]",
            "text/plain": [
              "<Figure size 1500x800 with 2 Axes>"
            ]
          },
          "metadata": {},
          "output_type": "display_data"
        }
      ],
      "source": [
        "labels = [' grad_1', ' grad_2']\n",
        "\n",
        "print('Confusion Matrix')\n",
        "print(confusion_matrix(y_test_root, y_pred))\n",
        "print('Classification Report')\n",
        "print(classification_report(y_test_root, y_pred, digits=3))\n",
        "\n",
        "cf_matrix=confusion_matrix(y_test_root, y_pred)\n",
        "sns.heatmap(cf_matrix, annot=True)\n",
        "cnf_matrix_norm = cf_matrix.astype('float') / cf_matrix.sum(axis=1)[:, np.newaxis]\n",
        "df_cm = pd.DataFrame(cnf_matrix_norm, index=labels, columns=labels)\n",
        "print(df_cm.describe().T)\n",
        "plt.figure(figsize=(15, 8))\n",
        "sns.heatmap(df_cm, annot=True, fmt='.3f')\n",
        "plt.show()"
      ]
    },
    {
      "cell_type": "code",
      "execution_count": null,
      "metadata": {
        "colab": {
          "background_save": true
        },
        "id": "qk3odBJUXTej"
      },
      "outputs": [],
      "source": []
    },
    {
      "cell_type": "code",
      "execution_count": null,
      "metadata": {
        "colab": {
          "background_save": true
        },
        "id": "ICKUlJ0tXThL",
        "outputId": "91c00c03-503a-41be-b95f-8f73a906f521"
      },
      "outputs": [
        {
          "name": "stdout",
          "output_type": "stream",
          "text": [
            "Logistic Regression Accuracy: 0.847457627118644\n",
            "Recall: 1.0\n",
            "Precision: 0.82\n",
            "Confusion Matrix:\n",
            "[[ 9  9]\n",
            " [ 0 41]]\n"
          ]
        }
      ],
      "source": [
        "from sklearn.linear_model import LogisticRegression\n",
        "from sklearn.metrics import accuracy_score\n",
        "from sklearn.model_selection import cross_val_score\n",
        "import numpy as np\n",
        "\n",
        "# Create a Logistic Regression classifier object\n",
        "logistic_regression = LogisticRegression(C= 0.1, penalty='l2', solver= 'lbfgs')\n",
        "\n",
        "\n",
        "# Train the classifier on the full training data\n",
        "logistic_regression.fit(X_train_final, y_train_root)\n",
        "\n",
        "# Make predictions on the test data\n",
        "y_pred = logistic_regression.predict(X_test_final)\n",
        "\n",
        "# Evaluate the accuracy of the classifier\n",
        "accuracy = accuracy_score(y_test_root, y_pred)\n",
        "print(\"Logistic Regression Accuracy:\", accuracy)\n",
        "\n",
        "\n",
        "from sklearn.metrics import recall_score, precision_score\n",
        "\n",
        "# Calculate recall\n",
        "recall = recall_score(y_test_root, y_pred)\n",
        "\n",
        "# Calculate precision\n",
        "precision = precision_score(y_test_root, y_pred)\n",
        "\n",
        "print(\"Recall:\", recall)\n",
        "print(\"Precision:\", precision)\n",
        "\n",
        "from sklearn.metrics import confusion_matrix\n",
        "# Calculate the confusion matrix\n",
        "confusion = confusion_matrix(y_test_root, y_pred)\n",
        "\n",
        "print(\"Confusion Matrix:\")\n",
        "print(confusion)\n"
      ]
    },
    {
      "cell_type": "code",
      "execution_count": null,
      "metadata": {
        "colab": {
          "background_save": true
        },
        "id": "ktbxjauuXTjj",
        "outputId": "cb31fe83-cdaa-4a32-a83b-346ed57079b0"
      },
      "outputs": [
        {
          "name": "stdout",
          "output_type": "stream",
          "text": [
            "Confusion Matrix\n",
            "[[ 9  9]\n",
            " [ 0 41]]\n",
            "Classification Report\n",
            "              precision    recall  f1-score   support\n",
            "\n",
            "           0      1.000     0.500     0.667        18\n",
            "           1      0.820     1.000     0.901        41\n",
            "\n",
            "    accuracy                          0.847        59\n",
            "   macro avg      0.910     0.750     0.784        59\n",
            "weighted avg      0.875     0.847     0.830        59\n",
            "\n",
            "         count  mean       std  min    25%   50%    75%  max\n",
            " grad_1    2.0  0.25  0.353553  0.0  0.125  0.25  0.375  0.5\n",
            " grad_2    2.0  0.75  0.353553  0.5  0.625  0.75  0.875  1.0\n"
          ]
        },
        {
          "data": {
            "image/png": "[encoded data removed]",
            "text/plain": [
              "<Figure size 640x480 with 2 Axes>"
            ]
          },
          "metadata": {},
          "output_type": "display_data"
        },
        {
          "data": {
            "image/png": "[encoded data removed]",
            "text/plain": [
              "<Figure size 1500x800 with 2 Axes>"
            ]
          },
          "metadata": {},
          "output_type": "display_data"
        }
      ],
      "source": [
        "labels = [' grad_1', ' grad_2']\n",
        "\n",
        "print('Confusion Matrix')\n",
        "print(confusion_matrix(y_test_root, y_pred))\n",
        "print('Classification Report')\n",
        "print(classification_report(y_test_root, y_pred, digits=3))\n",
        "\n",
        "cf_matrix=confusion_matrix(y_test_root, y_pred)\n",
        "sns.heatmap(cf_matrix, annot=True)\n",
        "cnf_matrix_norm = cf_matrix.astype('float') / cf_matrix.sum(axis=1)[:, np.newaxis]\n",
        "df_cm = pd.DataFrame(cnf_matrix_norm, index=labels, columns=labels)\n",
        "print(df_cm.describe().T)\n",
        "plt.figure(figsize=(15, 8))\n",
        "sns.heatmap(df_cm, annot=True, fmt='.3f')\n",
        "plt.show()"
      ]
    },
    {
      "cell_type": "code",
      "execution_count": null,
      "metadata": {
        "colab": {
          "background_save": true
        },
        "id": "Olk4jsB5Xoy4",
        "outputId": "eff50774-1650-44ae-e662-156f1602b781"
      },
      "outputs": [
        {
          "name": "stdout",
          "output_type": "stream",
          "text": [
            "DecisionTreeClassifier  Accuracy: 0.8813559322033898\n",
            "Recall: 0.9512195121951219\n",
            "Precision: 0.8863636363636364\n",
            "Confusion Matrix:\n",
            "[[13  5]\n",
            " [ 2 39]]\n"
          ]
        }
      ],
      "source": [
        "from sklearn.linear_model import LogisticRegression\n",
        "from sklearn.tree import DecisionTreeClassifier\n",
        "from sklearn.metrics import accuracy_score\n",
        "from sklearn.model_selection import cross_val_score\n",
        "import numpy as np\n",
        "\n",
        "# Create a Logistic Regression classifier object\n",
        "logistic_regression = DecisionTreeClassifier(criterion='entropy', max_depth= None, min_samples_leaf= 1, min_samples_split= 5, random_state=42,splitter='random')\n",
        "\n",
        "\n",
        "# Train the classifier on the full training data\n",
        "logistic_regression.fit(X_train_final, y_train_root)\n",
        "\n",
        "# Make predictions on the test data\n",
        "y_pred = logistic_regression.predict(X_test_final)\n",
        "\n",
        "# Evaluate the accuracy of the classifier\n",
        "accuracy = accuracy_score(y_test_root, y_pred)\n",
        "print(\"DecisionTreeClassifier  Accuracy:\", accuracy)\n",
        "\n",
        "\n",
        "from sklearn.metrics import recall_score, precision_score\n",
        "\n",
        "# Calculate recall\n",
        "recall = recall_score(y_test_root, y_pred)\n",
        "\n",
        "# Calculate precision\n",
        "precision = precision_score(y_test_root, y_pred)\n",
        "\n",
        "print(\"Recall:\", recall)\n",
        "print(\"Precision:\", precision)\n",
        "\n",
        "from sklearn.metrics import confusion_matrix\n",
        "# Calculate the confusion matrix\n",
        "confusion = confusion_matrix(y_test_root, y_pred)\n",
        "\n",
        "print(\"Confusion Matrix:\")\n",
        "print(confusion)\n"
      ]
    },
    {
      "cell_type": "code",
      "execution_count": null,
      "metadata": {
        "colab": {
          "background_save": true
        },
        "id": "1ckyTySjXo1b",
        "outputId": "eae5e7e2-1654-4144-e9bb-ef62e733d4cc"
      },
      "outputs": [
        {
          "name": "stdout",
          "output_type": "stream",
          "text": [
            "Confusion Matrix\n",
            "[[13  5]\n",
            " [ 2 39]]\n",
            "Classification Report\n",
            "              precision    recall  f1-score   support\n",
            "\n",
            "           0      0.867     0.722     0.788        18\n",
            "           1      0.886     0.951     0.918        41\n",
            "\n",
            "    accuracy                          0.881        59\n",
            "   macro avg      0.877     0.837     0.853        59\n",
            "weighted avg      0.880     0.881     0.878        59\n",
            "\n",
            "         count      mean       std       min       25%       50%       75%  \\\n",
            " grad_1    2.0  0.385501  0.476195  0.048780  0.217141  0.385501  0.553862   \n",
            " grad_2    2.0  0.614499  0.476195  0.277778  0.446138  0.614499  0.782859   \n",
            "\n",
            "              max  \n",
            " grad_1  0.722222  \n",
            " grad_2  0.951220  \n"
          ]
        },
        {
          "data": {
            "image/png": "[encoded data removed]",
            "text/plain": [
              "<Figure size 640x480 with 2 Axes>"
            ]
          },
          "metadata": {},
          "output_type": "display_data"
        },
        {
          "data": {
            "image/png": "[encoded data removed]",
            "text/plain": [
              "<Figure size 1500x800 with 2 Axes>"
            ]
          },
          "metadata": {},
          "output_type": "display_data"
        }
      ],
      "source": [
        "labels = [' grad_1', ' grad_2']\n",
        "\n",
        "print('Confusion Matrix')\n",
        "print(confusion_matrix(y_test_root, y_pred))\n",
        "print('Classification Report')\n",
        "print(classification_report(y_test_root, y_pred, digits=3))\n",
        "\n",
        "cf_matrix=confusion_matrix(y_test_root, y_pred)\n",
        "sns.heatmap(cf_matrix, annot=True)\n",
        "cnf_matrix_norm = cf_matrix.astype('float') / cf_matrix.sum(axis=1)[:, np.newaxis]\n",
        "df_cm = pd.DataFrame(cnf_matrix_norm, index=labels, columns=labels)\n",
        "print(df_cm.describe().T)\n",
        "plt.figure(figsize=(15, 8))\n",
        "sns.heatmap(df_cm, annot=True, fmt='.3f')\n",
        "plt.show()"
      ]
    },
    {
      "cell_type": "code",
      "execution_count": null,
      "metadata": {
        "colab": {
          "background_save": true
        },
        "id": "Nc1eXB6MXo3t"
      },
      "outputs": [],
      "source": []
    },
    {
      "cell_type": "code",
      "execution_count": null,
      "metadata": {
        "colab": {
          "background_save": true
        },
        "id": "4zKpIvnQXToM"
      },
      "outputs": [],
      "source": []
    }
  ],
  "metadata": {
    "colab": {
      "provenance": []
    },
    "kernelspec": {
      "display_name": "Python 3",
      "name": "python3"
    },
    "language_info": {
      "name": "python"
    }
  },
  "nbformat": 4,
  "nbformat_minor": 0
}